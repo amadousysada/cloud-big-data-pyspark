{
 "cells": [
  {
   "cell_type": "markdown",
   "id": "8770c646",
   "metadata": {
    "colab_type": "text",
    "id": "view-in-github"
   },
   "source": [
    "<a href=\"https://colab.research.google.com/github/amadousysada/cloud-big-data-pyspark/blob/main/notebook.ipynb\" target=\"_parent\"><img src=\"https://colab.research.google.com/assets/colab-badge.svg\" alt=\"Open In Colab\"/></a>"
   ]
  },
  {
   "cell_type": "markdown",
   "id": "4e759c1e",
   "metadata": {
    "id": "4e759c1e"
   },
   "source": [
    "# 1 Démarrage de la session Spark"
   ]
  },
  {
   "cell_type": "code",
   "execution_count": 1,
   "id": "e5f0fbe1",
   "metadata": {
    "execution": {
     "iopub.execute_input": "2025-09-18T20:39:32.414093Z",
     "iopub.status.busy": "2025-09-18T20:39:32.413809Z",
     "iopub.status.idle": "2025-09-18T20:40:07.083921Z",
     "shell.execute_reply": "2025-09-18T20:40:07.083000Z",
     "shell.execute_reply.started": "2025-09-18T20:39:32.414064Z"
    },
    "id": "e5f0fbe1",
    "tags": []
   },
   "outputs": [
    {
     "data": {
      "application/vnd.jupyter.widget-view+json": {
       "model_id": "aed88074cc8a4f0c92161cfe773e93e1",
       "version_major": 2,
       "version_minor": 0
      },
      "text/plain": [
       "VBox()"
      ]
     },
     "metadata": {},
     "output_type": "display_data"
    },
    {
     "name": "stdout",
     "output_type": "stream",
     "text": [
      "Starting Spark application\n"
     ]
    },
    {
     "data": {
      "text/html": [
       "<table>\n<tbody><tr><th>ID</th><th>YARN Application ID</th><th>Kind</th><th>State</th><th>Spark UI</th><th>Driver log</th><th>User</th><th>Current session?</th></tr><tr><td>3</td><td>application_1758223640353_0004</td><td>pyspark</td><td>idle</td><td><a target=\"_blank\" href=\"http://ip-172-31-40-66.eu-west-1.compute.internal:20888/proxy/application_1758223640353_0004/\" class=\"emr-proxy-link j-1HDWEFGUNJM6N application_1758223640353_0004\" emr-resource=\"j-1HDWEFGUNJM6N\n\" application-id=\"application_1758223640353_0004\">Link</a></td><td><a target=\"_blank\" href=\"http://ip-172-31-45-177.eu-west-1.compute.internal:8042/node/containerlogs/container_1758223640353_0004_01_000001/livy\">Link</a></td><td>None</td><td>✔</td></tr></tbody></table>"
      ],
      "text/plain": [
       "<IPython.core.display.HTML object>"
      ]
     },
     "metadata": {},
     "output_type": "display_data"
    },
    {
     "data": {
      "application/vnd.jupyter.widget-view+json": {
       "model_id": "03e4d4529b334eb180f958ac18347b64",
       "version_major": 2,
       "version_minor": 0
      },
      "text/plain": [
       "FloatProgress(value=0.0, bar_style='info', description='Progress:', layout=Layout(height='25px', width='50%'),…"
      ]
     },
     "metadata": {},
     "output_type": "display_data"
    },
    {
     "name": "stdout",
     "output_type": "stream",
     "text": [
      "SparkSession available as 'spark'.\n"
     ]
    },
    {
     "data": {
      "application/vnd.jupyter.widget-view+json": {
       "model_id": "301f7e6723604845a8a48baea47e53e5",
       "version_major": 2,
       "version_minor": 0
      },
      "text/plain": [
       "FloatProgress(value=0.0, bar_style='info', description='Progress:', layout=Layout(height='25px', width='50%'),…"
      ]
     },
     "metadata": {},
     "output_type": "display_data"
    }
   ],
   "source": [
    "# L'exécution de cette cellule démarre l'application Spark"
   ]
  },
  {
   "cell_type": "markdown",
   "id": "3aba202f",
   "metadata": {
    "id": "3aba202f"
   },
   "source": [
    "<u>Affichage des informations sur la session en cours et liens vers Spark UI</u> :"
   ]
  },
  {
   "cell_type": "code",
   "execution_count": 2,
   "id": "fb788991",
   "metadata": {
    "execution": {
     "iopub.execute_input": "2025-09-18T20:40:07.088951Z",
     "iopub.status.busy": "2025-09-18T20:40:07.088690Z",
     "iopub.status.idle": "2025-09-18T20:40:07.139089Z",
     "shell.execute_reply": "2025-09-18T20:40:07.138213Z",
     "shell.execute_reply.started": "2025-09-18T20:40:07.088918Z"
    },
    "id": "fb788991",
    "outputId": "399c478b-17df-4f02-9e90-1513ff1941e3"
   },
   "outputs": [
    {
     "data": {
      "text/html": [
       "Current session configs: <tt>{'proxyUser': 'user_emr-studio-user', 'conf': {'spark.pyspark.python': 'python3', 'spark.pyspark.virtualenv.enabled': 'true', 'spark.pyspark.virtualenv.type': 'native', 'spark.pyspark.virtualenv.bin.path': '/usr/bin/virtualenv'}, 'kind': 'pyspark'}</tt><br>"
      ],
      "text/plain": [
       "<IPython.core.display.HTML object>"
      ]
     },
     "metadata": {},
     "output_type": "display_data"
    },
    {
     "data": {
      "text/html": [
       "<table>\n<tbody><tr><th>ID</th><th>YARN Application ID</th><th>Kind</th><th>State</th><th>Spark UI</th><th>Driver log</th><th>User</th><th>Current session?</th></tr><tr><td>3</td><td>application_1758223640353_0004</td><td>pyspark</td><td>idle</td><td><a target=\"_blank\" href=\"http://ip-172-31-40-66.eu-west-1.compute.internal:20888/proxy/application_1758223640353_0004/\" class=\"emr-proxy-link j-1HDWEFGUNJM6N application_1758223640353_0004\" emr-resource=\"j-1HDWEFGUNJM6N\n\" application-id=\"application_1758223640353_0004\">Link</a></td><td><a target=\"_blank\" href=\"http://ip-172-31-45-177.eu-west-1.compute.internal:8042/node/containerlogs/container_1758223640353_0004_01_000001/livy\">Link</a></td><td>None</td><td>✔</td></tr></tbody></table>"
      ],
      "text/plain": [
       "<IPython.core.display.HTML object>"
      ]
     },
     "metadata": {},
     "output_type": "display_data"
    }
   ],
   "source": [
    "%%info"
   ]
  },
  {
   "cell_type": "markdown",
   "id": "27ac9832",
   "metadata": {
    "id": "27ac9832"
   },
   "source": [
    "# 2 Installation des packages\n",
    "\n",
    "Les packages nécessaires ont été installé via l'étape de **bootstrap** à l'instanciation du serveur."
   ]
  },
  {
   "cell_type": "markdown",
   "id": "GXRJ_po-XNo0",
   "metadata": {
    "id": "GXRJ_po-XNo0"
   },
   "source": [
    "# 3 Import des librairies"
   ]
  },
  {
   "cell_type": "code",
   "execution_count": 3,
   "id": "ad562eab",
   "metadata": {
    "colab": {
     "base_uri": "https://localhost:8080/"
    },
    "execution": {
     "iopub.execute_input": "2025-09-18T20:40:07.143791Z",
     "iopub.status.busy": "2025-09-18T20:40:07.143325Z",
     "iopub.status.idle": "2025-09-18T20:40:14.481177Z",
     "shell.execute_reply": "2025-09-18T20:40:14.480492Z",
     "shell.execute_reply.started": "2025-09-18T20:40:07.143754Z"
    },
    "id": "ad562eab",
    "outputId": "520aa2e1-4b9b-4158-ee08-290e33c196c2",
    "tags": []
   },
   "outputs": [
    {
     "data": {
      "application/vnd.jupyter.widget-view+json": {
       "model_id": "16f433f758e44b71b2bb773137e7189a",
       "version_major": 2,
       "version_minor": 0
      },
      "text/plain": [
       "VBox()"
      ]
     },
     "metadata": {},
     "output_type": "display_data"
    },
    {
     "data": {
      "application/vnd.jupyter.widget-view+json": {
       "model_id": "ff4ffdb045d04986b1ee14af5a5a6242",
       "version_major": 2,
       "version_minor": 0
      },
      "text/plain": [
       "FloatProgress(value=0.0, bar_style='info', description='Progress:', layout=Layout(height='25px', width='50%'),…"
      ]
     },
     "metadata": {},
     "output_type": "display_data"
    },
    {
     "name": "stdout",
     "output_type": "stream",
     "text": [
      "Pyspark: 3.4.1+amzn.2\n",
      "Pyspark: 3.4.1+amzn.2\n",
      "Tensorflow: 2.11.0\n",
      "Pandas: 1.3.5\n",
      "Numpy: 1.20.0\n",
      "Matplotlib: 3.5.3\n",
      "PIL: 9.5.0"
     ]
    }
   ],
   "source": [
    "import io\n",
    "import os\n",
    "\n",
    "import pandas as pd\n",
    "import numpy as np\n",
    "import tensorflow as tf\n",
    "\n",
    "from PIL import Image\n",
    "\n",
    "import matplotlib\n",
    "import matplotlib.pyplot as plt\n",
    "\n",
    "from tensorflow.keras.applications.mobilenet_v2 import MobileNetV2, preprocess_input\n",
    "from tensorflow.keras.preprocessing.image import img_to_array\n",
    "from tensorflow.keras import Model\n",
    "\n",
    "import pyspark\n",
    "from pyspark.sql import functions as F\n",
    "from pyspark.sql.functions import col, pandas_udf, PandasUDFType, element_at, split\n",
    "from pyspark.ml.feature import StandardScaler, PCA\n",
    "from pyspark.ml.functions import array_to_vector, vector_to_array\n",
    "from pyspark.storagelevel import StorageLevel\n",
    "from pyspark.ml.linalg import Vectors, VectorUDT\n",
    "from pyspark.ml import Pipeline\n",
    "\n",
    "print(f\"Pyspark: {pyspark.__version__}\")\n",
    "print(f\"Pyspark: {pyspark.__version__}\")\n",
    "print(f\"Tensorflow: {tf.__version__}\")\n",
    "print(f\"Pandas: {pd.__version__}\")\n",
    "print(f\"Numpy: {np.__version__}\")\n",
    "print(f\"Matplotlib: {matplotlib.__version__}\")\n",
    "print(f\"PIL: {Image.__version__}\")"
   ]
  },
  {
   "cell_type": "markdown",
   "id": "83663cbd",
   "metadata": {
    "id": "83663cbd"
   },
   "source": [
    "# 4 Définition des PATH pour charger les images et enregistrer les résultats\n",
    "\n",
    "Nous accédons directement à nos **données sur S3** comme si elles étaient **stockées localement**."
   ]
  },
  {
   "cell_type": "code",
   "execution_count": 4,
   "id": "46be859d",
   "metadata": {
    "colab": {
     "base_uri": "https://localhost:8080/"
    },
    "execution": {
     "iopub.execute_input": "2025-09-18T20:40:14.482554Z",
     "iopub.status.busy": "2025-09-18T20:40:14.482355Z",
     "iopub.status.idle": "2025-09-18T20:40:14.542028Z",
     "shell.execute_reply": "2025-09-18T20:40:14.541407Z",
     "shell.execute_reply.started": "2025-09-18T20:40:14.482505Z"
    },
    "id": "46be859d",
    "outputId": "c3fae468-23c9-4efa-b556-af3fb2116a62",
    "tags": []
   },
   "outputs": [
    {
     "data": {
      "application/vnd.jupyter.widget-view+json": {
       "model_id": "b9d314152ef549e3a2e49910f7026412",
       "version_major": 2,
       "version_minor": 0
      },
      "text/plain": [
       "VBox()"
      ]
     },
     "metadata": {},
     "output_type": "display_data"
    },
    {
     "data": {
      "application/vnd.jupyter.widget-view+json": {
       "model_id": "b86e197f5b1a45c1898b600278fad3c1",
       "version_major": 2,
       "version_minor": 0
      },
      "text/plain": [
       "FloatProgress(value=0.0, bar_style='info', description='Progress:', layout=Layout(height='25px', width='50%'),…"
      ]
     },
     "metadata": {},
     "output_type": "display_data"
    }
   ],
   "source": [
    "PATH = \"s3://p11-fruits-pipeline/raw/fruits/fruits-360\"\n",
    "PATH_Data = PATH+'/Test'\n",
    "PATH_Result = PATH+'/Results'"
   ]
  },
  {
   "cell_type": "markdown",
   "id": "cf883c20",
   "metadata": {
    "id": "cf883c20"
   },
   "source": [
    "# 5 Traitement des données"
   ]
  },
  {
   "cell_type": "markdown",
   "id": "2ffe93f5",
   "metadata": {
    "id": "2ffe93f5"
   },
   "source": [
    "## 5.1 Chargement des données"
   ]
  },
  {
   "cell_type": "code",
   "execution_count": 5,
   "id": "7e4b319a",
   "metadata": {
    "colab": {
     "referenced_widgets": [
      ""
     ]
    },
    "execution": {
     "iopub.execute_input": "2025-09-18T20:40:14.543742Z",
     "iopub.status.busy": "2025-09-18T20:40:14.543479Z",
     "iopub.status.idle": "2025-09-18T20:40:27.871760Z",
     "shell.execute_reply": "2025-09-18T20:40:27.871039Z",
     "shell.execute_reply.started": "2025-09-18T20:40:14.543709Z"
    },
    "id": "7e4b319a",
    "outputId": "46b5e387-66ce-4024-8d0d-7e2d273c4b95",
    "tags": []
   },
   "outputs": [
    {
     "data": {
      "application/vnd.jupyter.widget-view+json": {
       "model_id": "5d80140a8b14495cb752b500bae28c28",
       "version_major": 2,
       "version_minor": 0
      },
      "text/plain": [
       "VBox()"
      ]
     },
     "metadata": {},
     "output_type": "display_data"
    },
    {
     "data": {
      "application/vnd.jupyter.widget-view+json": {
       "model_id": "11c3696b471d4958bfe9aae6f806beb5",
       "version_major": 2,
       "version_minor": 0
      },
      "text/plain": [
       "FloatProgress(value=0.0, bar_style='info', description='Progress:', layout=Layout(height='25px', width='50%'),…"
      ]
     },
     "metadata": {},
     "output_type": "display_data"
    }
   ],
   "source": [
    "images = spark.read.format(\"binaryFile\") \\\n",
    "  .option(\"pathGlobFilter\", \"*.jpg\") \\\n",
    "  .option(\"recursiveFileLookup\", \"true\") \\\n",
    "  .load(PATH_Data)"
   ]
  },
  {
   "cell_type": "code",
   "execution_count": 6,
   "id": "16bfeb4d",
   "metadata": {
    "colab": {
     "referenced_widgets": [
      ""
     ]
    },
    "execution": {
     "iopub.execute_input": "2025-09-18T20:40:27.872903Z",
     "iopub.status.busy": "2025-09-18T20:40:27.872719Z",
     "iopub.status.idle": "2025-09-18T20:40:31.155293Z",
     "shell.execute_reply": "2025-09-18T20:40:31.154625Z",
     "shell.execute_reply.started": "2025-09-18T20:40:27.872880Z"
    },
    "id": "16bfeb4d",
    "outputId": "456bb434-b8dd-4072-f02e-246181f91857"
   },
   "outputs": [
    {
     "data": {
      "application/vnd.jupyter.widget-view+json": {
       "model_id": "84691af85c284ff587e87f28cc275283",
       "version_major": 2,
       "version_minor": 0
      },
      "text/plain": [
       "VBox()"
      ]
     },
     "metadata": {},
     "output_type": "display_data"
    },
    {
     "data": {
      "application/vnd.jupyter.widget-view+json": {
       "model_id": "e056461bed64413cbef960440f610024",
       "version_major": 2,
       "version_minor": 0
      },
      "text/plain": [
       "FloatProgress(value=0.0, bar_style='info', description='Progress:', layout=Layout(height='25px', width='50%'),…"
      ]
     },
     "metadata": {},
     "output_type": "display_data"
    },
    {
     "name": "stdout",
     "output_type": "stream",
     "text": [
      "+--------------------+-------------------+------+--------------------+\n",
      "|                path|   modificationTime|length|             content|\n",
      "+--------------------+-------------------+------+--------------------+\n",
      "|s3://p11-fruits-p...|2025-09-15 11:36:11|  7353|[FF D8 FF E0 00 1...|\n",
      "|s3://p11-fruits-p...|2025-09-15 11:36:12|  7350|[FF D8 FF E0 00 1...|\n",
      "|s3://p11-fruits-p...|2025-09-15 11:36:11|  7349|[FF D8 FF E0 00 1...|\n",
      "|s3://p11-fruits-p...|2025-09-15 11:36:11|  7348|[FF D8 FF E0 00 1...|\n",
      "|s3://p11-fruits-p...|2025-09-15 11:36:12|  7328|[FF D8 FF E0 00 1...|\n",
      "+--------------------+-------------------+------+--------------------+\n",
      "only showing top 5 rows"
     ]
    }
   ],
   "source": [
    "images.show(5)"
   ]
  },
  {
   "cell_type": "markdown",
   "id": "8b32ac34",
   "metadata": {
    "id": "8b32ac34"
   },
   "source": [
    "<u>Je ne conserve que le **path** de l'image et j'ajoute <br />\n",
    "    une colonne contenant les **labels** de chaque image</u> :"
   ]
  },
  {
   "cell_type": "code",
   "execution_count": 7,
   "id": "a52ab808",
   "metadata": {
    "colab": {
     "referenced_widgets": [
      ""
     ]
    },
    "execution": {
     "iopub.execute_input": "2025-09-18T20:40:31.156713Z",
     "iopub.status.busy": "2025-09-18T20:40:31.156469Z",
     "iopub.status.idle": "2025-09-18T20:40:31.918238Z",
     "shell.execute_reply": "2025-09-18T20:40:31.917533Z",
     "shell.execute_reply.started": "2025-09-18T20:40:31.156680Z"
    },
    "id": "a52ab808",
    "outputId": "3c960a1b-dd42-404b-97f7-0974d0ccc16a"
   },
   "outputs": [
    {
     "data": {
      "application/vnd.jupyter.widget-view+json": {
       "model_id": "2e646c62917448d299a4a20ea78835e8",
       "version_major": 2,
       "version_minor": 0
      },
      "text/plain": [
       "VBox()"
      ]
     },
     "metadata": {},
     "output_type": "display_data"
    },
    {
     "data": {
      "application/vnd.jupyter.widget-view+json": {
       "model_id": "f9ebc350a03d40659b73c44df7a5a241",
       "version_major": 2,
       "version_minor": 0
      },
      "text/plain": [
       "FloatProgress(value=0.0, bar_style='info', description='Progress:', layout=Layout(height='25px', width='50%'),…"
      ]
     },
     "metadata": {},
     "output_type": "display_data"
    },
    {
     "name": "stdout",
     "output_type": "stream",
     "text": [
      "root\n",
      " |-- path: string (nullable = true)\n",
      " |-- modificationTime: timestamp (nullable = true)\n",
      " |-- length: long (nullable = true)\n",
      " |-- content: binary (nullable = true)\n",
      " |-- label: string (nullable = true)\n",
      "\n",
      "None\n",
      "+----------------------------------------------------------------------------+----------+\n",
      "|path                                                                        |label     |\n",
      "+----------------------------------------------------------------------------+----------+\n",
      "|s3://p11-fruits-pipeline/raw/fruits/fruits-360/Test/Watermelon/r_106_100.jpg|Watermelon|\n",
      "|s3://p11-fruits-pipeline/raw/fruits/fruits-360/Test/Watermelon/r_109_100.jpg|Watermelon|\n",
      "|s3://p11-fruits-pipeline/raw/fruits/fruits-360/Test/Watermelon/r_108_100.jpg|Watermelon|\n",
      "|s3://p11-fruits-pipeline/raw/fruits/fruits-360/Test/Watermelon/r_107_100.jpg|Watermelon|\n",
      "|s3://p11-fruits-pipeline/raw/fruits/fruits-360/Test/Watermelon/r_95_100.jpg |Watermelon|\n",
      "+----------------------------------------------------------------------------+----------+\n",
      "only showing top 5 rows\n",
      "\n",
      "None"
     ]
    }
   ],
   "source": [
    "images = images.withColumn('label', element_at(split(images['path'], '/'),-2))\n",
    "print(images.printSchema())\n",
    "print(images.select('path','label').show(5,False))"
   ]
  },
  {
   "cell_type": "markdown",
   "id": "8f15b199",
   "metadata": {
    "id": "8f15b199"
   },
   "source": [
    "## 5.2 Préparation du modèle"
   ]
  },
  {
   "cell_type": "code",
   "execution_count": 8,
   "id": "ec7c7165",
   "metadata": {
    "colab": {
     "referenced_widgets": [
      ""
     ]
    },
    "execution": {
     "iopub.execute_input": "2025-09-18T20:40:31.920582Z",
     "iopub.status.busy": "2025-09-18T20:40:31.920414Z",
     "iopub.status.idle": "2025-09-18T20:40:34.194783Z",
     "shell.execute_reply": "2025-09-18T20:40:34.194214Z",
     "shell.execute_reply.started": "2025-09-18T20:40:31.920561Z"
    },
    "id": "ec7c7165",
    "outputId": "15fb198b-f2bd-4c5f-ed09-0bbff7aa2b00"
   },
   "outputs": [
    {
     "data": {
      "application/vnd.jupyter.widget-view+json": {
       "model_id": "ed9d69ade83543a0970527016ed4b615",
       "version_major": 2,
       "version_minor": 0
      },
      "text/plain": [
       "VBox()"
      ]
     },
     "metadata": {},
     "output_type": "display_data"
    },
    {
     "data": {
      "application/vnd.jupyter.widget-view+json": {
       "model_id": "d82468ced12a404ebd97d52ff4a67ddc",
       "version_major": 2,
       "version_minor": 0
      },
      "text/plain": [
       "FloatProgress(value=0.0, bar_style='info', description='Progress:', layout=Layout(height='25px', width='50%'),…"
      ]
     },
     "metadata": {},
     "output_type": "display_data"
    }
   ],
   "source": [
    "model = MobileNetV2(weights='imagenet',\n",
    "                    include_top=True,\n",
    "                    input_shape=(224, 224, 3))"
   ]
  },
  {
   "cell_type": "code",
   "execution_count": 9,
   "id": "1b9bc650",
   "metadata": {
    "colab": {
     "referenced_widgets": [
      ""
     ]
    },
    "execution": {
     "iopub.execute_input": "2025-09-18T20:40:34.196687Z",
     "iopub.status.busy": "2025-09-18T20:40:34.196518Z",
     "iopub.status.idle": "2025-09-18T20:40:34.470820Z",
     "shell.execute_reply": "2025-09-18T20:40:34.470124Z",
     "shell.execute_reply.started": "2025-09-18T20:40:34.196666Z"
    },
    "id": "1b9bc650",
    "outputId": "f48c4992-d1a6-4ea3-c1d6-1b1000307130"
   },
   "outputs": [
    {
     "data": {
      "application/vnd.jupyter.widget-view+json": {
       "model_id": "42159c8f9e554c148a28090bf7ac010e",
       "version_major": 2,
       "version_minor": 0
      },
      "text/plain": [
       "VBox()"
      ]
     },
     "metadata": {},
     "output_type": "display_data"
    },
    {
     "data": {
      "application/vnd.jupyter.widget-view+json": {
       "model_id": "c445d279fc4f4812a648e664bace573b",
       "version_major": 2,
       "version_minor": 0
      },
      "text/plain": [
       "FloatProgress(value=0.0, bar_style='info', description='Progress:', layout=Layout(height='25px', width='50%'),…"
      ]
     },
     "metadata": {},
     "output_type": "display_data"
    }
   ],
   "source": [
    "new_model = Model(inputs=model.input,\n",
    "                  outputs=model.layers[-2].output)"
   ]
  },
  {
   "cell_type": "code",
   "execution_count": 10,
   "id": "a0d497f2",
   "metadata": {
    "colab": {
     "referenced_widgets": [
      ""
     ]
    },
    "execution": {
     "iopub.execute_input": "2025-09-18T20:40:34.472092Z",
     "iopub.status.busy": "2025-09-18T20:40:34.471916Z",
     "iopub.status.idle": "2025-09-18T20:40:34.725141Z",
     "shell.execute_reply": "2025-09-18T20:40:34.724401Z",
     "shell.execute_reply.started": "2025-09-18T20:40:34.472070Z"
    },
    "id": "a0d497f2",
    "outputId": "744d3093-57c4-4a39-8331-418c67c6b035"
   },
   "outputs": [
    {
     "data": {
      "application/vnd.jupyter.widget-view+json": {
       "model_id": "b6012e35d3fc4d6d815b37cb633ba90f",
       "version_major": 2,
       "version_minor": 0
      },
      "text/plain": [
       "VBox()"
      ]
     },
     "metadata": {},
     "output_type": "display_data"
    },
    {
     "data": {
      "application/vnd.jupyter.widget-view+json": {
       "model_id": "58f2ba9593b14157b8e931ef27cd0766",
       "version_major": 2,
       "version_minor": 0
      },
      "text/plain": [
       "FloatProgress(value=0.0, bar_style='info', description='Progress:', layout=Layout(height='25px', width='50%'),…"
      ]
     },
     "metadata": {},
     "output_type": "display_data"
    }
   ],
   "source": [
    "brodcast_weights = sc.broadcast(new_model.get_weights())"
   ]
  },
  {
   "cell_type": "code",
   "execution_count": 11,
   "id": "1bc0bf14",
   "metadata": {
    "colab": {
     "referenced_widgets": [
      ""
     ]
    },
    "execution": {
     "iopub.execute_input": "2025-09-18T20:40:34.726226Z",
     "iopub.status.busy": "2025-09-18T20:40:34.726059Z",
     "iopub.status.idle": "2025-09-18T20:40:34.988088Z",
     "shell.execute_reply": "2025-09-18T20:40:34.987300Z",
     "shell.execute_reply.started": "2025-09-18T20:40:34.726203Z"
    },
    "id": "1bc0bf14",
    "outputId": "c1185e3e-53db-4576-afe1-dcdb0a27e68c"
   },
   "outputs": [
    {
     "data": {
      "application/vnd.jupyter.widget-view+json": {
       "model_id": "0e85b08fdf4c43b5abbed0aad80d14e3",
       "version_major": 2,
       "version_minor": 0
      },
      "text/plain": [
       "VBox()"
      ]
     },
     "metadata": {},
     "output_type": "display_data"
    },
    {
     "data": {
      "application/vnd.jupyter.widget-view+json": {
       "model_id": "243e826cfac349da8d3c969568546476",
       "version_major": 2,
       "version_minor": 0
      },
      "text/plain": [
       "FloatProgress(value=0.0, bar_style='info', description='Progress:', layout=Layout(height='25px', width='50%'),…"
      ]
     },
     "metadata": {},
     "output_type": "display_data"
    },
    {
     "name": "stdout",
     "output_type": "stream",
     "text": [
      "Model: \"model\"\n",
      "__________________________________________________________________________________________________\n",
      " Layer (type)                   Output Shape         Param #     Connected to                     \n",
      "==================================================================================================\n",
      " input_1 (InputLayer)           [(None, 224, 224, 3  0           []                               \n",
      "                                )]                                                                \n",
      "                                                                                                  \n",
      " Conv1 (Conv2D)                 (None, 112, 112, 32  864         ['input_1[0][0]']                \n",
      "                                )                                                                 \n",
      "                                                                                                  \n",
      " bn_Conv1 (BatchNormalization)  (None, 112, 112, 32  128         ['Conv1[0][0]']                  \n",
      "                                )                                                                 \n",
      "                                                                                                  \n",
      " Conv1_relu (ReLU)              (None, 112, 112, 32  0           ['bn_Conv1[0][0]']               \n",
      "                                )                                                                 \n",
      "                                                                                                  \n",
      " expanded_conv_depthwise (Depth  (None, 112, 112, 32  288        ['Conv1_relu[0][0]']             \n",
      " wiseConv2D)                    )                                                                 \n",
      "                                                                                                  \n",
      " expanded_conv_depthwise_BN (Ba  (None, 112, 112, 32  128        ['expanded_conv_depthwise[0][0]']\n",
      " tchNormalization)              )                                                                 \n",
      "                                                                                                  \n",
      " expanded_conv_depthwise_relu (  (None, 112, 112, 32  0          ['expanded_conv_depthwise_BN[0][0\n",
      " ReLU)                          )                                ]']                              \n",
      "                                                                                                  \n",
      " expanded_conv_project (Conv2D)  (None, 112, 112, 16  512        ['expanded_conv_depthwise_relu[0]\n",
      "                                )                                [0]']                            \n",
      "                                                                                                  \n",
      " expanded_conv_project_BN (Batc  (None, 112, 112, 16  64         ['expanded_conv_project[0][0]']  \n",
      " hNormalization)                )                                                                 \n",
      "                                                                                                  \n",
      " block_1_expand (Conv2D)        (None, 112, 112, 96  1536        ['expanded_conv_project_BN[0][0]'\n",
      "                                )                                ]                                \n",
      "                                                                                                  \n",
      " block_1_expand_BN (BatchNormal  (None, 112, 112, 96  384        ['block_1_expand[0][0]']         \n",
      " ization)                       )                                                                 \n",
      "                                                                                                  \n",
      " block_1_expand_relu (ReLU)     (None, 112, 112, 96  0           ['block_1_expand_BN[0][0]']      \n",
      "                                )                                                                 \n",
      "                                                                                                  \n",
      " block_1_pad (ZeroPadding2D)    (None, 113, 113, 96  0           ['block_1_expand_relu[0][0]']    \n",
      "                                )                                                                 \n",
      "                                                                                                  \n",
      " block_1_depthwise (DepthwiseCo  (None, 56, 56, 96)  864         ['block_1_pad[0][0]']            \n",
      " nv2D)                                                                                            \n",
      "                                                                                                  \n",
      " block_1_depthwise_BN (BatchNor  (None, 56, 56, 96)  384         ['block_1_depthwise[0][0]']      \n",
      " malization)                                                                                      \n",
      "                                                                                                  \n",
      " block_1_depthwise_relu (ReLU)  (None, 56, 56, 96)   0           ['block_1_depthwise_BN[0][0]']   \n",
      "                                                                                                  \n",
      " block_1_project (Conv2D)       (None, 56, 56, 24)   2304        ['block_1_depthwise_relu[0][0]'] \n",
      "                                                                                                  \n",
      " block_1_project_BN (BatchNorma  (None, 56, 56, 24)  96          ['block_1_project[0][0]']        \n",
      " lization)                                                                                        \n",
      "                                                                                                  \n",
      " block_2_expand (Conv2D)        (None, 56, 56, 144)  3456        ['block_1_project_BN[0][0]']     \n",
      "                                                                                                  \n",
      " block_2_expand_BN (BatchNormal  (None, 56, 56, 144)  576        ['block_2_expand[0][0]']         \n",
      " ization)                                                                                         \n",
      "                                                                                                  \n",
      " block_2_expand_relu (ReLU)     (None, 56, 56, 144)  0           ['block_2_expand_BN[0][0]']      \n",
      "                                                                                                  \n",
      " block_2_depthwise (DepthwiseCo  (None, 56, 56, 144)  1296       ['block_2_expand_relu[0][0]']    \n",
      " nv2D)                                                                                            \n",
      "                                                                                                  \n",
      " block_2_depthwise_BN (BatchNor  (None, 56, 56, 144)  576        ['block_2_depthwise[0][0]']      \n",
      " malization)                                                                                      \n",
      "                                                                                                  \n",
      " block_2_depthwise_relu (ReLU)  (None, 56, 56, 144)  0           ['block_2_depthwise_BN[0][0]']   \n",
      "                                                                                                  \n",
      " block_2_project (Conv2D)       (None, 56, 56, 24)   3456        ['block_2_depthwise_relu[0][0]'] \n",
      "                                                                                                  \n",
      " block_2_project_BN (BatchNorma  (None, 56, 56, 24)  96          ['block_2_project[0][0]']        \n",
      " lization)                                                                                        \n",
      "                                                                                                  \n",
      " block_2_add (Add)              (None, 56, 56, 24)   0           ['block_1_project_BN[0][0]',     \n",
      "                                                                  'block_2_project_BN[0][0]']     \n",
      "                                                                                                  \n",
      " block_3_expand (Conv2D)        (None, 56, 56, 144)  3456        ['block_2_add[0][0]']            \n",
      "                                                                                                  \n",
      " block_3_expand_BN (BatchNormal  (None, 56, 56, 144)  576        ['block_3_expand[0][0]']         \n",
      " ization)                                                                                         \n",
      "                                                                                                  \n",
      " block_3_expand_relu (ReLU)     (None, 56, 56, 144)  0           ['block_3_expand_BN[0][0]']      \n",
      "                                                                                                  \n",
      " block_3_pad (ZeroPadding2D)    (None, 57, 57, 144)  0           ['block_3_expand_relu[0][0]']    \n",
      "                                                                                                  \n",
      " block_3_depthwise (DepthwiseCo  (None, 28, 28, 144)  1296       ['block_3_pad[0][0]']            \n",
      " nv2D)                                                                                            \n",
      "                                                                                                  \n",
      " block_3_depthwise_BN (BatchNor  (None, 28, 28, 144)  576        ['block_3_depthwise[0][0]']      \n",
      " malization)                                                                                      \n",
      "                                                                                                  \n",
      " block_3_depthwise_relu (ReLU)  (None, 28, 28, 144)  0           ['block_3_depthwise_BN[0][0]']   \n",
      "                                                                                                  \n",
      " block_3_project (Conv2D)       (None, 28, 28, 32)   4608        ['block_3_depthwise_relu[0][0]'] \n",
      "                                                                                                  \n",
      " block_3_project_BN (BatchNorma  (None, 28, 28, 32)  128         ['block_3_project[0][0]']        \n",
      " lization)                                                                                        \n",
      "                                                                                                  \n",
      " block_4_expand (Conv2D)        (None, 28, 28, 192)  6144        ['block_3_project_BN[0][0]']     \n",
      "                                                                                                  \n",
      " block_4_expand_BN (BatchNormal  (None, 28, 28, 192)  768        ['block_4_expand[0][0]']         \n",
      " ization)                                                                                         \n",
      "                                                                                                  \n",
      " block_4_expand_relu (ReLU)     (None, 28, 28, 192)  0           ['block_4_expand_BN[0][0]']      \n",
      "                                                                                                  \n",
      " block_4_depthwise (DepthwiseCo  (None, 28, 28, 192)  1728       ['block_4_expand_relu[0][0]']    \n",
      " nv2D)                                                                                            \n",
      "                                                                                                  \n",
      " block_4_depthwise_BN (BatchNor  (None, 28, 28, 192)  768        ['block_4_depthwise[0][0]']      \n",
      " malization)                                                                                      \n",
      "                                                                                                  \n",
      " block_4_depthwise_relu (ReLU)  (None, 28, 28, 192)  0           ['block_4_depthwise_BN[0][0]']   \n",
      "                                                                                                  \n",
      " block_4_project (Conv2D)       (None, 28, 28, 32)   6144        ['block_4_depthwise_relu[0][0]'] \n",
      "                                                                                                  \n",
      " block_4_project_BN (BatchNorma  (None, 28, 28, 32)  128         ['block_4_project[0][0]']        \n",
      " lization)                                                                                        \n",
      "                                                                                                  \n",
      " block_4_add (Add)              (None, 28, 28, 32)   0           ['block_3_project_BN[0][0]',     \n",
      "                                                                  'block_4_project_BN[0][0]']     \n",
      "                                                                                                  \n",
      " block_5_expand (Conv2D)        (None, 28, 28, 192)  6144        ['block_4_add[0][0]']            \n",
      "                                                                                                  \n",
      " block_5_expand_BN (BatchNormal  (None, 28, 28, 192)  768        ['block_5_expand[0][0]']         \n",
      " ization)                                                                                         \n",
      "                                                                                                  \n",
      " block_5_expand_relu (ReLU)     (None, 28, 28, 192)  0           ['block_5_expand_BN[0][0]']      \n",
      "                                                                                                  \n",
      " block_5_depthwise (DepthwiseCo  (None, 28, 28, 192)  1728       ['block_5_expand_relu[0][0]']    \n",
      " nv2D)                                                                                            \n",
      "                                                                                                  \n",
      " block_5_depthwise_BN (BatchNor  (None, 28, 28, 192)  768        ['block_5_depthwise[0][0]']      \n",
      " malization)                                                                                      \n",
      "                                                                                                  \n",
      " block_5_depthwise_relu (ReLU)  (None, 28, 28, 192)  0           ['block_5_depthwise_BN[0][0]']   \n",
      "                                                                                                  \n",
      " block_5_project (Conv2D)       (None, 28, 28, 32)   6144        ['block_5_depthwise_relu[0][0]'] \n",
      "                                                                                                  \n",
      " block_5_project_BN (BatchNorma  (None, 28, 28, 32)  128         ['block_5_project[0][0]']        \n",
      " lization)                                                                                        \n",
      "                                                                                                  \n",
      " block_5_add (Add)              (None, 28, 28, 32)   0           ['block_4_add[0][0]',            \n",
      "                                                                  'block_5_project_BN[0][0]']     \n",
      "                                                                                                  \n",
      " block_6_expand (Conv2D)        (None, 28, 28, 192)  6144        ['block_5_add[0][0]']            \n",
      "                                                                                                  \n",
      " block_6_expand_BN (BatchNormal  (None, 28, 28, 192)  768        ['block_6_expand[0][0]']         \n",
      " ization)                                                                                         \n",
      "                                                                                                  \n",
      " block_6_expand_relu (ReLU)     (None, 28, 28, 192)  0           ['block_6_expand_BN[0][0]']      \n",
      "                                                                                                  \n",
      " block_6_pad (ZeroPadding2D)    (None, 29, 29, 192)  0           ['block_6_expand_relu[0][0]']    \n",
      "                                                                                                  \n",
      " block_6_depthwise (DepthwiseCo  (None, 14, 14, 192)  1728       ['block_6_pad[0][0]']            \n",
      " nv2D)                                                                                            \n",
      "                                                                                                  \n",
      " block_6_depthwise_BN (BatchNor  (None, 14, 14, 192)  768        ['block_6_depthwise[0][0]']      \n",
      " malization)                                                                                      \n",
      "                                                                                                  \n",
      " block_6_depthwise_relu (ReLU)  (None, 14, 14, 192)  0           ['block_6_depthwise_BN[0][0]']   \n",
      "                                                                                                  \n",
      " block_6_project (Conv2D)       (None, 14, 14, 64)   12288       ['block_6_depthwise_relu[0][0]'] \n",
      "                                                                                                  \n",
      " block_6_project_BN (BatchNorma  (None, 14, 14, 64)  256         ['block_6_project[0][0]']        \n",
      " lization)                                                                                        \n",
      "                                                                                                  \n",
      " block_7_expand (Conv2D)        (None, 14, 14, 384)  24576       ['block_6_project_BN[0][0]']     \n",
      "                                                                                                  \n",
      " block_7_expand_BN (BatchNormal  (None, 14, 14, 384)  1536       ['block_7_expand[0][0]']         \n",
      " ization)                                                                                         \n",
      "                                                                                                  \n",
      " block_7_expand_relu (ReLU)     (None, 14, 14, 384)  0           ['block_7_expand_BN[0][0]']      \n",
      "                                                                                                  \n",
      " block_7_depthwise (DepthwiseCo  (None, 14, 14, 384)  3456       ['block_7_expand_relu[0][0]']    \n",
      " nv2D)                                                                                            \n",
      "                                                                                                  \n",
      " block_7_depthwise_BN (BatchNor  (None, 14, 14, 384)  1536       ['block_7_depthwise[0][0]']      \n",
      " malization)                                                                                      \n",
      "                                                                                                  \n",
      " block_7_depthwise_relu (ReLU)  (None, 14, 14, 384)  0           ['block_7_depthwise_BN[0][0]']   \n",
      "                                                                                                  \n",
      " block_7_project (Conv2D)       (None, 14, 14, 64)   24576       ['block_7_depthwise_relu[0][0]'] \n",
      "                                                                                                  \n",
      " block_7_project_BN (BatchNorma  (None, 14, 14, 64)  256         ['block_7_project[0][0]']        \n",
      " lization)                                                                                        \n",
      "                                                                                                  \n",
      " block_7_add (Add)              (None, 14, 14, 64)   0           ['block_6_project_BN[0][0]',     \n",
      "                                                                  'block_7_project_BN[0][0]']     \n",
      "                                                                                                  \n",
      " block_8_expand (Conv2D)        (None, 14, 14, 384)  24576       ['block_7_add[0][0]']            \n",
      "                                                                                                  \n",
      " block_8_expand_BN (BatchNormal  (None, 14, 14, 384)  1536       ['block_8_expand[0][0]']         \n",
      " ization)                                                                                         \n",
      "                                                                                                  \n",
      " block_8_expand_relu (ReLU)     (None, 14, 14, 384)  0           ['block_8_expand_BN[0][0]']      \n",
      "                                                                                                  \n",
      " block_8_depthwise (DepthwiseCo  (None, 14, 14, 384)  3456       ['block_8_expand_relu[0][0]']    \n",
      " nv2D)                                                                                            \n",
      "                                                                                                  \n",
      " block_8_depthwise_BN (BatchNor  (None, 14, 14, 384)  1536       ['block_8_depthwise[0][0]']      \n",
      " malization)                                                                                      \n",
      "                                                                                                  \n",
      " block_8_depthwise_relu (ReLU)  (None, 14, 14, 384)  0           ['block_8_depthwise_BN[0][0]']   \n",
      "                                                                                                  \n",
      " block_8_project (Conv2D)       (None, 14, 14, 64)   24576       ['block_8_depthwise_relu[0][0]'] \n",
      "                                                                                                  \n",
      " block_8_project_BN (BatchNorma  (None, 14, 14, 64)  256         ['block_8_project[0][0]']        \n",
      " lization)                                                                                        \n",
      "                                                                                                  \n",
      " block_8_add (Add)              (None, 14, 14, 64)   0           ['block_7_add[0][0]',            \n",
      "                                                                  'block_8_project_BN[0][0]']     \n",
      "                                                                                                  \n",
      " block_9_expand (Conv2D)        (None, 14, 14, 384)  24576       ['block_8_add[0][0]']            \n",
      "                                                                                                  \n",
      " block_9_expand_BN (BatchNormal  (None, 14, 14, 384)  1536       ['block_9_expand[0][0]']         \n",
      " ization)                                                                                         \n",
      "                                                                                                  \n",
      " block_9_expand_relu (ReLU)     (None, 14, 14, 384)  0           ['block_9_expand_BN[0][0]']      \n",
      "                                                                                                  \n",
      " block_9_depthwise (DepthwiseCo  (None, 14, 14, 384)  3456       ['block_9_expand_relu[0][0]']    \n",
      " nv2D)                                                                                            \n",
      "                                                                                                  \n",
      " block_9_depthwise_BN (BatchNor  (None, 14, 14, 384)  1536       ['block_9_depthwise[0][0]']      \n",
      " malization)                                                                                      \n",
      "                                                                                                  \n",
      " block_9_depthwise_relu (ReLU)  (None, 14, 14, 384)  0           ['block_9_depthwise_BN[0][0]']   \n",
      "                                                                                                  \n",
      " block_9_project (Conv2D)       (None, 14, 14, 64)   24576       ['block_9_depthwise_relu[0][0]'] \n",
      "                                                                                                  \n",
      " block_9_project_BN (BatchNorma  (None, 14, 14, 64)  256         ['block_9_project[0][0]']        \n",
      " lization)                                                                                        \n",
      "                                                                                                  \n",
      " block_9_add (Add)              (None, 14, 14, 64)   0           ['block_8_add[0][0]',            \n",
      "                                                                  'block_9_project_BN[0][0]']     \n",
      "                                                                                                  \n",
      " block_10_expand (Conv2D)       (None, 14, 14, 384)  24576       ['block_9_add[0][0]']            \n",
      "                                                                                                  \n",
      " block_10_expand_BN (BatchNorma  (None, 14, 14, 384)  1536       ['block_10_expand[0][0]']        \n",
      " lization)                                                                                        \n",
      "                                                                                                  \n",
      " block_10_expand_relu (ReLU)    (None, 14, 14, 384)  0           ['block_10_expand_BN[0][0]']     \n",
      "                                                                                                  \n",
      " block_10_depthwise (DepthwiseC  (None, 14, 14, 384)  3456       ['block_10_expand_relu[0][0]']   \n",
      " onv2D)                                                                                           \n",
      "                                                                                                  \n",
      " block_10_depthwise_BN (BatchNo  (None, 14, 14, 384)  1536       ['block_10_depthwise[0][0]']     \n",
      " rmalization)                                                                                     \n",
      "                                                                                                  \n",
      " block_10_depthwise_relu (ReLU)  (None, 14, 14, 384)  0          ['block_10_depthwise_BN[0][0]']  \n",
      "                                                                                                  \n",
      " block_10_project (Conv2D)      (None, 14, 14, 96)   36864       ['block_10_depthwise_relu[0][0]']\n",
      "                                                                                                  \n",
      " block_10_project_BN (BatchNorm  (None, 14, 14, 96)  384         ['block_10_project[0][0]']       \n",
      " alization)                                                                                       \n",
      "                                                                                                  \n",
      " block_11_expand (Conv2D)       (None, 14, 14, 576)  55296       ['block_10_project_BN[0][0]']    \n",
      "                                                                                                  \n",
      " block_11_expand_BN (BatchNorma  (None, 14, 14, 576)  2304       ['block_11_expand[0][0]']        \n",
      " lization)                                                                                        \n",
      "                                                                                                  \n",
      " block_11_expand_relu (ReLU)    (None, 14, 14, 576)  0           ['block_11_expand_BN[0][0]']     \n",
      "                                                                                                  \n",
      " block_11_depthwise (DepthwiseC  (None, 14, 14, 576)  5184       ['block_11_expand_relu[0][0]']   \n",
      " onv2D)                                                                                           \n",
      "                                                                                                  \n",
      " block_11_depthwise_BN (BatchNo  (None, 14, 14, 576)  2304       ['block_11_depthwise[0][0]']     \n",
      " rmalization)                                                                                     \n",
      "                                                                                                  \n",
      " block_11_depthwise_relu (ReLU)  (None, 14, 14, 576)  0          ['block_11_depthwise_BN[0][0]']  \n",
      "                                                                                                  \n",
      " block_11_project (Conv2D)      (None, 14, 14, 96)   55296       ['block_11_depthwise_relu[0][0]']\n",
      "                                                                                                  \n",
      " block_11_project_BN (BatchNorm  (None, 14, 14, 96)  384         ['block_11_project[0][0]']       \n",
      " alization)                                                                                       \n",
      "                                                                                                  \n",
      " block_11_add (Add)             (None, 14, 14, 96)   0           ['block_10_project_BN[0][0]',    \n",
      "                                                                  'block_11_project_BN[0][0]']    \n",
      "                                                                                                  \n",
      " block_12_expand (Conv2D)       (None, 14, 14, 576)  55296       ['block_11_add[0][0]']           \n",
      "                                                                                                  \n",
      " block_12_expand_BN (BatchNorma  (None, 14, 14, 576)  2304       ['block_12_expand[0][0]']        \n",
      " lization)                                                                                        \n",
      "                                                                                                  \n",
      " block_12_expand_relu (ReLU)    (None, 14, 14, 576)  0           ['block_12_expand_BN[0][0]']     \n",
      "                                                                                                  \n",
      " block_12_depthwise (DepthwiseC  (None, 14, 14, 576)  5184       ['block_12_expand_relu[0][0]']   \n",
      " onv2D)                                                                                           \n",
      "                                                                                                  \n",
      " block_12_depthwise_BN (BatchNo  (None, 14, 14, 576)  2304       ['block_12_depthwise[0][0]']     \n",
      " rmalization)                                                                                     \n",
      "                                                                                                  \n",
      " block_12_depthwise_relu (ReLU)  (None, 14, 14, 576)  0          ['block_12_depthwise_BN[0][0]']  \n",
      "                                                                                                  \n",
      " block_12_project (Conv2D)      (None, 14, 14, 96)   55296       ['block_12_depthwise_relu[0][0]']\n",
      "                                                                                                  \n",
      " block_12_project_BN (BatchNorm  (None, 14, 14, 96)  384         ['block_12_project[0][0]']       \n",
      " alization)                                                                                       \n",
      "                                                                                                  \n",
      " block_12_add (Add)             (None, 14, 14, 96)   0           ['block_11_add[0][0]',           \n",
      "                                                                  'block_12_project_BN[0][0]']    \n",
      "                                                                                                  \n",
      " block_13_expand (Conv2D)       (None, 14, 14, 576)  55296       ['block_12_add[0][0]']           \n",
      "                                                                                                  \n",
      " block_13_expand_BN (BatchNorma  (None, 14, 14, 576)  2304       ['block_13_expand[0][0]']        \n",
      " lization)                                                                                        \n",
      "                                                                                                  \n",
      " block_13_expand_relu (ReLU)    (None, 14, 14, 576)  0           ['block_13_expand_BN[0][0]']     \n",
      "                                                                                                  \n",
      " block_13_pad (ZeroPadding2D)   (None, 15, 15, 576)  0           ['block_13_expand_relu[0][0]']   \n",
      "                                                                                                  \n",
      " block_13_depthwise (DepthwiseC  (None, 7, 7, 576)   5184        ['block_13_pad[0][0]']           \n",
      " onv2D)                                                                                           \n",
      "                                                                                                  \n",
      " block_13_depthwise_BN (BatchNo  (None, 7, 7, 576)   2304        ['block_13_depthwise[0][0]']     \n",
      " rmalization)                                                                                     \n",
      "                                                                                                  \n",
      " block_13_depthwise_relu (ReLU)  (None, 7, 7, 576)   0           ['block_13_depthwise_BN[0][0]']  \n",
      "                                                                                                  \n",
      " block_13_project (Conv2D)      (None, 7, 7, 160)    92160       ['block_13_depthwise_relu[0][0]']\n",
      "                                                                                                  \n",
      " block_13_project_BN (BatchNorm  (None, 7, 7, 160)   640         ['block_13_project[0][0]']       \n",
      " alization)                                                                                       \n",
      "                                                                                                  \n",
      " block_14_expand (Conv2D)       (None, 7, 7, 960)    153600      ['block_13_project_BN[0][0]']    \n",
      "                                                                                                  \n",
      " block_14_expand_BN (BatchNorma  (None, 7, 7, 960)   3840        ['block_14_expand[0][0]']        \n",
      " lization)                                                                                        \n",
      "                                                                                                  \n",
      " block_14_expand_relu (ReLU)    (None, 7, 7, 960)    0           ['block_14_expand_BN[0][0]']     \n",
      "                                                                                                  \n",
      " block_14_depthwise (DepthwiseC  (None, 7, 7, 960)   8640        ['block_14_expand_relu[0][0]']   \n",
      " onv2D)                                                                                           \n",
      "                                                                                                  \n",
      " block_14_depthwise_BN (BatchNo  (None, 7, 7, 960)   3840        ['block_14_depthwise[0][0]']     \n",
      " rmalization)                                                                                     \n",
      "                                                                                                  \n",
      " block_14_depthwise_relu (ReLU)  (None, 7, 7, 960)   0           ['block_14_depthwise_BN[0][0]']  \n",
      "                                                                                                  \n",
      " block_14_project (Conv2D)      (None, 7, 7, 160)    153600      ['block_14_depthwise_relu[0][0]']\n",
      "                                                                                                  \n",
      " block_14_project_BN (BatchNorm  (None, 7, 7, 160)   640         ['block_14_project[0][0]']       \n",
      " alization)                                                                                       \n",
      "                                                                                                  \n",
      " block_14_add (Add)             (None, 7, 7, 160)    0           ['block_13_project_BN[0][0]',    \n",
      "                                                                  'block_14_project_BN[0][0]']    \n",
      "                                                                                                  \n",
      " block_15_expand (Conv2D)       (None, 7, 7, 960)    153600      ['block_14_add[0][0]']           \n",
      "                                                                                                  \n",
      " block_15_expand_BN (BatchNorma  (None, 7, 7, 960)   3840        ['block_15_expand[0][0]']        \n",
      " lization)                                                                                        \n",
      "                                                                                                  \n",
      " block_15_expand_relu (ReLU)    (None, 7, 7, 960)    0           ['block_15_expand_BN[0][0]']     \n",
      "                                                                                                  \n",
      " block_15_depthwise (DepthwiseC  (None, 7, 7, 960)   8640        ['block_15_expand_relu[0][0]']   \n",
      " onv2D)                                                                                           \n",
      "                                                                                                  \n",
      " block_15_depthwise_BN (BatchNo  (None, 7, 7, 960)   3840        ['block_15_depthwise[0][0]']     \n",
      " rmalization)                                                                                     \n",
      "                                                                                                  \n",
      " block_15_depthwise_relu (ReLU)  (None, 7, 7, 960)   0           ['block_15_depthwise_BN[0][0]']  \n",
      "                                                                                                  \n",
      " block_15_project (Conv2D)      (None, 7, 7, 160)    153600      ['block_15_depthwise_relu[0][0]']\n",
      "                                                                                                  \n",
      " block_15_project_BN (BatchNorm  (None, 7, 7, 160)   640         ['block_15_project[0][0]']       \n",
      " alization)                                                                                       \n",
      "                                                                                                  \n",
      " block_15_add (Add)             (None, 7, 7, 160)    0           ['block_14_add[0][0]',           \n",
      "                                                                  'block_15_project_BN[0][0]']    \n",
      "                                                                                                  \n",
      " block_16_expand (Conv2D)       (None, 7, 7, 960)    153600      ['block_15_add[0][0]']           \n",
      "                                                                                                  \n",
      " block_16_expand_BN (BatchNorma  (None, 7, 7, 960)   3840        ['block_16_expand[0][0]']        \n",
      " lization)                                                                                        \n",
      "                                                                                                  \n",
      " block_16_expand_relu (ReLU)    (None, 7, 7, 960)    0           ['block_16_expand_BN[0][0]']     \n",
      "                                                                                                  \n",
      " block_16_depthwise (DepthwiseC  (None, 7, 7, 960)   8640        ['block_16_expand_relu[0][0]']   \n",
      " onv2D)                                                                                           \n",
      "                                                                                                  \n",
      " block_16_depthwise_BN (BatchNo  (None, 7, 7, 960)   3840        ['block_16_depthwise[0][0]']     \n",
      " rmalization)                                                                                     \n",
      "                                                                                                  \n",
      " block_16_depthwise_relu (ReLU)  (None, 7, 7, 960)   0           ['block_16_depthwise_BN[0][0]']  \n",
      "                                                                                                  \n",
      " block_16_project (Conv2D)      (None, 7, 7, 320)    307200      ['block_16_depthwise_relu[0][0]']\n",
      "                                                                                                  \n",
      " block_16_project_BN (BatchNorm  (None, 7, 7, 320)   1280        ['block_16_project[0][0]']       \n",
      " alization)                                                                                       \n",
      "                                                                                                  \n",
      " Conv_1 (Conv2D)                (None, 7, 7, 1280)   409600      ['block_16_project_BN[0][0]']    \n",
      "                                                                                                  \n",
      " Conv_1_bn (BatchNormalization)  (None, 7, 7, 1280)  5120        ['Conv_1[0][0]']                 \n",
      "                                                                                                  \n",
      " out_relu (ReLU)                (None, 7, 7, 1280)   0           ['Conv_1_bn[0][0]']              \n",
      "                                                                                                  \n",
      " global_average_pooling2d (Glob  (None, 1280)        0           ['out_relu[0][0]']               \n",
      " alAveragePooling2D)                                                                              \n",
      "                                                                                                  \n",
      "==================================================================================================\n",
      "Total params: 2,257,984\n",
      "Trainable params: 2,223,872\n",
      "Non-trainable params: 34,112\n",
      "__________________________________________________________________________________________________"
     ]
    }
   ],
   "source": [
    "new_model.summary()"
   ]
  },
  {
   "cell_type": "code",
   "execution_count": 12,
   "id": "be8fe2b9",
   "metadata": {
    "colab": {
     "referenced_widgets": [
      ""
     ]
    },
    "execution": {
     "iopub.execute_input": "2025-09-18T20:40:34.989303Z",
     "iopub.status.busy": "2025-09-18T20:40:34.989125Z",
     "iopub.status.idle": "2025-09-18T20:40:35.038355Z",
     "shell.execute_reply": "2025-09-18T20:40:35.037710Z",
     "shell.execute_reply.started": "2025-09-18T20:40:34.989282Z"
    },
    "id": "be8fe2b9",
    "outputId": "a53352b4-434a-4688-8465-9fd4f8cac9b3"
   },
   "outputs": [
    {
     "data": {
      "application/vnd.jupyter.widget-view+json": {
       "model_id": "1a5b5934ee1e43f196c67772c10681ae",
       "version_major": 2,
       "version_minor": 0
      },
      "text/plain": [
       "VBox()"
      ]
     },
     "metadata": {},
     "output_type": "display_data"
    },
    {
     "data": {
      "application/vnd.jupyter.widget-view+json": {
       "model_id": "c431be077c4d46dfb622e804a314b9a9",
       "version_major": 2,
       "version_minor": 0
      },
      "text/plain": [
       "FloatProgress(value=0.0, bar_style='info', description='Progress:', layout=Layout(height='25px', width='50%'),…"
      ]
     },
     "metadata": {},
     "output_type": "display_data"
    }
   ],
   "source": [
    "def model_fn():\n",
    "    \"\"\"\n",
    "    Returns a MobileNetV2 model with top layer removed\n",
    "    and broadcasted pretrained weights.\n",
    "    \"\"\"\n",
    "    model = MobileNetV2(weights='imagenet',\n",
    "                        include_top=True,\n",
    "                        input_shape=(224, 224, 3))\n",
    "    for layer in model.layers:\n",
    "        layer.trainable = False\n",
    "    new_model = Model(inputs=model.input,\n",
    "                  outputs=model.layers[-2].output)\n",
    "    new_model.set_weights(brodcast_weights.value)\n",
    "    return new_model"
   ]
  },
  {
   "cell_type": "markdown",
   "id": "c032f135",
   "metadata": {
    "id": "c032f135"
   },
   "source": [
    "## 5.3 Définition du processus de chargement des images <br/> et application de leur featurisation à travers l'utilisation de pandas UDF"
   ]
  },
  {
   "cell_type": "code",
   "execution_count": 13,
   "id": "933100cf",
   "metadata": {
    "colab": {
     "referenced_widgets": [
      ""
     ]
    },
    "execution": {
     "iopub.execute_input": "2025-09-18T20:40:35.039636Z",
     "iopub.status.busy": "2025-09-18T20:40:35.039442Z",
     "iopub.status.idle": "2025-09-18T20:40:35.842220Z",
     "shell.execute_reply": "2025-09-18T20:40:35.841516Z",
     "shell.execute_reply.started": "2025-09-18T20:40:35.039614Z"
    },
    "id": "933100cf",
    "outputId": "8d29c3b3-5802-48f5-d1e9-aeb3b0d0ddd5",
    "scrolled": true
   },
   "outputs": [
    {
     "data": {
      "application/vnd.jupyter.widget-view+json": {
       "model_id": "b3bd8f8c47804d6ebb9a3efcb2b458dd",
       "version_major": 2,
       "version_minor": 0
      },
      "text/plain": [
       "VBox()"
      ]
     },
     "metadata": {},
     "output_type": "display_data"
    },
    {
     "data": {
      "application/vnd.jupyter.widget-view+json": {
       "model_id": "d94c37cc56bd4fd697b593b155c1e031",
       "version_major": 2,
       "version_minor": 0
      },
      "text/plain": [
       "FloatProgress(value=0.0, bar_style='info', description='Progress:', layout=Layout(height='25px', width='50%'),…"
      ]
     },
     "metadata": {},
     "output_type": "display_data"
    },
    {
     "name": "stdout",
     "output_type": "stream",
     "text": [
      "/mnt/yarn/usercache/livy/appcache/application_1758223640353_0004/container_1758223640353_0004_01_000001/pyspark.zip/pyspark/sql/pandas/functions.py:403: UserWarning: In Python 3.6+ and Spark 3.0+, it is preferred to specify type hints for pandas UDF instead of specifying pandas UDF type which will be deprecated in the future releases. See SPARK-28264 for more details."
     ]
    }
   ],
   "source": [
    "def preprocess(content):\n",
    "    \"\"\"\n",
    "    Preprocesses raw image bytes for prediction.\n",
    "    \"\"\"\n",
    "    img = Image.open(io.BytesIO(content)).resize([224, 224])\n",
    "    arr = img_to_array(img)\n",
    "    return preprocess_input(arr)\n",
    "\n",
    "def featurize_series(model, content_series):\n",
    "    \"\"\"\n",
    "    Featurize a pd.Series of raw images using the input model.\n",
    "    :return: a pd.Series of image features\n",
    "    \"\"\"\n",
    "    input = np.stack(content_series.map(preprocess))\n",
    "    preds = model.predict(input)\n",
    "    # For some layers, output features will be multi-dimensional tensors.\n",
    "    # We flatten the feature tensors to vectors for easier storage in Spark DataFrames.\n",
    "    output = [p.flatten() for p in preds]\n",
    "    return pd.Series(output)\n",
    "\n",
    "@pandas_udf('array<float>', PandasUDFType.SCALAR_ITER)\n",
    "def featurize_udf(content_series_iter):\n",
    "    '''\n",
    "    This method is a Scalar Iterator pandas UDF wrapping our featurization function.\n",
    "    The decorator specifies that this returns a Spark DataFrame column of type ArrayType(FloatType).\n",
    "\n",
    "    :param content_series_iter: This argument is an iterator over batches of data, where each batch\n",
    "                              is a pandas Series of image data.\n",
    "    '''\n",
    "    # With Scalar Iterator pandas UDFs, we can load the model once and then re-use it\n",
    "    # for multiple data batches.  This amortizes the overhead of loading big models.\n",
    "    model = model_fn()\n",
    "    for content_series in content_series_iter:\n",
    "        yield featurize_series(model, content_series)"
   ]
  },
  {
   "cell_type": "markdown",
   "id": "f23206e8",
   "metadata": {
    "id": "f23206e8"
   },
   "source": [
    "## 5.4 Exécutions des actions d'extractions de features"
   ]
  },
  {
   "cell_type": "code",
   "execution_count": 14,
   "id": "5e07fd68",
   "metadata": {
    "colab": {
     "referenced_widgets": [
      ""
     ]
    },
    "execution": {
     "iopub.execute_input": "2025-09-18T20:40:35.843630Z",
     "iopub.status.busy": "2025-09-18T20:40:35.843191Z",
     "iopub.status.idle": "2025-09-18T20:40:36.114639Z",
     "shell.execute_reply": "2025-09-18T20:40:36.113729Z",
     "shell.execute_reply.started": "2025-09-18T20:40:35.843592Z"
    },
    "id": "5e07fd68",
    "outputId": "3f1efd37-0e51-4ee5-adf9-7e45ac52edfe"
   },
   "outputs": [
    {
     "data": {
      "application/vnd.jupyter.widget-view+json": {
       "model_id": "b2ea100f796b4ab19e4c1dc886edf43b",
       "version_major": 2,
       "version_minor": 0
      },
      "text/plain": [
       "VBox()"
      ]
     },
     "metadata": {},
     "output_type": "display_data"
    },
    {
     "data": {
      "application/vnd.jupyter.widget-view+json": {
       "model_id": "ac69f1ddf866467ead3baae838138d8d",
       "version_major": 2,
       "version_minor": 0
      },
      "text/plain": [
       "FloatProgress(value=0.0, bar_style='info', description='Progress:', layout=Layout(height='25px', width='50%'),…"
      ]
     },
     "metadata": {},
     "output_type": "display_data"
    }
   ],
   "source": [
    "features_df = images.repartition(24).select(col(\"path\"), col(\"label\"), featurize_udf(\"content\").alias(\"features\"))"
   ]
  },
  {
   "cell_type": "markdown",
   "id": "Xqjt7C7LFRi5",
   "metadata": {
    "id": "Xqjt7C7LFRi5"
   },
   "source": [
    "### 5.4.1 Reduction de dimensions: PCA"
   ]
  },
  {
   "cell_type": "code",
   "execution_count": 15,
   "id": "8e0i2L7IFRi7",
   "metadata": {
    "execution": {
     "iopub.execute_input": "2025-09-18T20:40:36.116051Z",
     "iopub.status.busy": "2025-09-18T20:40:36.115808Z",
     "iopub.status.idle": "2025-09-18T20:40:36.398176Z",
     "shell.execute_reply": "2025-09-18T20:40:36.397331Z",
     "shell.execute_reply.started": "2025-09-18T20:40:36.116024Z"
    },
    "id": "8e0i2L7IFRi7",
    "tags": []
   },
   "outputs": [
    {
     "data": {
      "application/vnd.jupyter.widget-view+json": {
       "model_id": "c00ad9ba90f84788a0c561c029cfdc33",
       "version_major": 2,
       "version_minor": 0
      },
      "text/plain": [
       "VBox()"
      ]
     },
     "metadata": {},
     "output_type": "display_data"
    },
    {
     "data": {
      "application/vnd.jupyter.widget-view+json": {
       "model_id": "3b95b897918d42fb867dd78cbf4129f8",
       "version_major": 2,
       "version_minor": 0
      },
      "text/plain": [
       "FloatProgress(value=0.0, bar_style='info', description='Progress:', layout=Layout(height='25px', width='50%'),…"
      ]
     },
     "metadata": {},
     "output_type": "display_data"
    }
   ],
   "source": [
    "array_to_vector = lambda x: Vectors.dense(x)\n",
    "array_to_vector_udf = F.udf(array_to_vector, VectorUDT())\n",
    "features_df = features_df.withColumn(\"features_input\", array_to_vector_udf(features_df[\"features\"]))"
   ]
  },
  {
   "cell_type": "code",
   "execution_count": 16,
   "id": "z-sMlH39FRi8",
   "metadata": {
    "colab": {
     "base_uri": "https://localhost:8080/"
    },
    "execution": {
     "iopub.execute_input": "2025-09-18T20:40:36.400072Z",
     "iopub.status.busy": "2025-09-18T20:40:36.399521Z",
     "iopub.status.idle": "2025-09-18T20:48:00.949017Z",
     "shell.execute_reply": "2025-09-18T20:48:00.948343Z",
     "shell.execute_reply.started": "2025-09-18T20:40:36.400035Z"
    },
    "id": "z-sMlH39FRi8",
    "outputId": "8266f296-9da9-4cec-eec9-8b6b7943e9de",
    "tags": []
   },
   "outputs": [
    {
     "data": {
      "application/vnd.jupyter.widget-view+json": {
       "model_id": "91b7abee740345199b671932fa703a2c",
       "version_major": 2,
       "version_minor": 0
      },
      "text/plain": [
       "VBox()"
      ]
     },
     "metadata": {},
     "output_type": "display_data"
    },
    {
     "data": {
      "application/vnd.jupyter.widget-view+json": {
       "model_id": "90394f3c2c564f37bdc4687a2888675d",
       "version_major": 2,
       "version_minor": 0
      },
      "text/plain": [
       "FloatProgress(value=0.0, bar_style='info', description='Progress:', layout=Layout(height='25px', width='50%'),…"
      ]
     },
     "metadata": {},
     "output_type": "display_data"
    },
    {
     "name": "stdout",
     "output_type": "stream",
     "text": [
      "Nombre de features : 1280"
     ]
    }
   ],
   "source": [
    "row_1 = features_df.first()\n",
    "num_features = len(row_1[\"features\"])\n",
    "print(f\"Nombre de features : {num_features}\")"
   ]
  },
  {
   "cell_type": "markdown",
   "id": "MWLxoamyFRi9",
   "metadata": {
    "id": "MWLxoamyFRi9"
   },
   "source": [
    "> Normalisation"
   ]
  },
  {
   "cell_type": "code",
   "execution_count": 17,
   "id": "7yZ_86l1FRi9",
   "metadata": {
    "colab": {
     "base_uri": "https://localhost:8080/"
    },
    "execution": {
     "iopub.execute_input": "2025-09-18T20:48:00.950373Z",
     "iopub.status.busy": "2025-09-18T20:48:00.950125Z",
     "iopub.status.idle": "2025-09-18T20:48:01.224326Z",
     "shell.execute_reply": "2025-09-18T20:48:01.223660Z",
     "shell.execute_reply.started": "2025-09-18T20:48:00.950338Z"
    },
    "id": "7yZ_86l1FRi9",
    "outputId": "771e5626-9698-44fe-ff66-881f9d74da0f",
    "tags": []
   },
   "outputs": [
    {
     "data": {
      "application/vnd.jupyter.widget-view+json": {
       "model_id": "c7fc2453db6c4f29a00906af8b42d471",
       "version_major": 2,
       "version_minor": 0
      },
      "text/plain": [
       "VBox()"
      ]
     },
     "metadata": {},
     "output_type": "display_data"
    },
    {
     "data": {
      "application/vnd.jupyter.widget-view+json": {
       "model_id": "2e1364d68bb841598957f2456d58fec0",
       "version_major": 2,
       "version_minor": 0
      },
      "text/plain": [
       "FloatProgress(value=0.0, bar_style='info', description='Progress:', layout=Layout(height='25px', width='50%'),…"
      ]
     },
     "metadata": {},
     "output_type": "display_data"
    }
   ],
   "source": [
    "scaler = StandardScaler(\n",
    "    inputCol=\"features_input\",\n",
    "    outputCol=\"scaled_features\",\n",
    "    withStd=True,\n",
    "    withMean=True\n",
    ")\n",
    "pca = PCA(\n",
    "    k=num_features,\n",
    "    inputCol=scaler.getOutputCol(),\n",
    "    outputCol=\"pca_features\"\n",
    ")\n",
    "\n",
    "pipeline = Pipeline(stages=[scaler , pca])"
   ]
  },
  {
   "cell_type": "code",
   "execution_count": 18,
   "id": "WtmZI83JFRi-",
   "metadata": {
    "colab": {
     "base_uri": "https://localhost:8080/"
    },
    "execution": {
     "iopub.execute_input": "2025-09-18T20:48:01.225500Z",
     "iopub.status.busy": "2025-09-18T20:48:01.225331Z",
     "iopub.status.idle": "2025-09-18T21:21:56.952491Z",
     "shell.execute_reply": "2025-09-18T21:21:56.951449Z",
     "shell.execute_reply.started": "2025-09-18T20:48:01.225479Z"
    },
    "id": "WtmZI83JFRi-",
    "outputId": "cd8a8e1c-bb15-40cf-93a0-e879ad938e1c",
    "tags": []
   },
   "outputs": [
    {
     "data": {
      "application/vnd.jupyter.widget-view+json": {
       "model_id": "06f5ee7a443640ff889f56107e863800",
       "version_major": 2,
       "version_minor": 0
      },
      "text/plain": [
       "VBox()"
      ]
     },
     "metadata": {},
     "output_type": "display_data"
    },
    {
     "data": {
      "application/vnd.jupyter.widget-view+json": {
       "model_id": "056accb96f064287b3f1c9fd0d89e6f4",
       "version_major": 2,
       "version_minor": 0
      },
      "text/plain": [
       "FloatProgress(value=0.0, bar_style='info', description='Progress:', layout=Layout(height='25px', width='50%'),…"
      ]
     },
     "metadata": {},
     "output_type": "display_data"
    }
   ],
   "source": [
    "model = pipeline.fit(features_df)"
   ]
  },
  {
   "cell_type": "code",
   "execution_count": 19,
   "id": "Q47SCqEKFRi_",
   "metadata": {
    "colab": {
     "base_uri": "https://localhost:8080/"
    },
    "execution": {
     "iopub.execute_input": "2025-09-18T21:21:56.953801Z",
     "iopub.status.busy": "2025-09-18T21:21:56.953596Z",
     "iopub.status.idle": "2025-09-18T21:21:57.220919Z",
     "shell.execute_reply": "2025-09-18T21:21:57.220097Z",
     "shell.execute_reply.started": "2025-09-18T21:21:56.953776Z"
    },
    "id": "Q47SCqEKFRi_",
    "outputId": "2c8eab9e-3737-4ca2-d7ae-9649e79e7961",
    "tags": []
   },
   "outputs": [
    {
     "data": {
      "application/vnd.jupyter.widget-view+json": {
       "model_id": "5b1b2be6626140baa34e409d2894023b",
       "version_major": 2,
       "version_minor": 0
      },
      "text/plain": [
       "VBox()"
      ]
     },
     "metadata": {},
     "output_type": "display_data"
    },
    {
     "data": {
      "application/vnd.jupyter.widget-view+json": {
       "model_id": "8e0c065bf9d640c689febc20d5479e69",
       "version_major": 2,
       "version_minor": 0
      },
      "text/plain": [
       "FloatProgress(value=0.0, bar_style='info', description='Progress:', layout=Layout(height='25px', width='50%'),…"
      ]
     },
     "metadata": {},
     "output_type": "display_data"
    },
    {
     "name": "stdout",
     "output_type": "stream",
     "text": [
      "Variance expliqu?e par les composantes principales :\n",
      "[7.67207412e-02 5.04070070e-02 4.36569740e-02 ... 1.52878720e-05\n",
      " 1.44198048e-05 1.41866501e-05]"
     ]
    }
   ],
   "source": [
    "explained_variance = model.stages[-1].explainedVariance.toArray()\n",
    "print(\"Variance expliquée par les composantes principales :\")\n",
    "print(explained_variance)"
   ]
  },
  {
   "cell_type": "code",
   "execution_count": 20,
   "id": "Lypv75s6FRjA",
   "metadata": {
    "colab": {
     "base_uri": "https://localhost:8080/",
     "height": 424
    },
    "execution": {
     "iopub.execute_input": "2025-09-18T21:21:57.223046Z",
     "iopub.status.busy": "2025-09-18T21:21:57.222134Z",
     "iopub.status.idle": "2025-09-18T21:21:57.486009Z",
     "shell.execute_reply": "2025-09-18T21:21:57.485305Z",
     "shell.execute_reply.started": "2025-09-18T21:21:57.222969Z"
    },
    "id": "Lypv75s6FRjA",
    "outputId": "b36a0e4f-eb01-48f6-a00b-9758a74aad53",
    "tags": []
   },
   "outputs": [
    {
     "data": {
      "application/vnd.jupyter.widget-view+json": {
       "model_id": "21d867c726b84fbba4163823ba933014",
       "version_major": 2,
       "version_minor": 0
      },
      "text/plain": [
       "VBox()"
      ]
     },
     "metadata": {},
     "output_type": "display_data"
    },
    {
     "data": {
      "application/vnd.jupyter.widget-view+json": {
       "model_id": "44665362075846019a882ef385994b55",
       "version_major": 2,
       "version_minor": 0
      },
      "text/plain": [
       "FloatProgress(value=0.0, bar_style='info', description='Progress:', layout=Layout(height='25px', width='50%'),…"
      ]
     },
     "metadata": {},
     "output_type": "display_data"
    },
    {
     "name": "stdout",
     "output_type": "stream",
     "text": [
      "     Dimension  Variance Expliqu?e (%)  Somme Cumul?e (%)\n",
      "0         Dim1                7.672074           7.672074\n",
      "1         Dim2                5.040701          12.712775\n",
      "2         Dim3                4.365697          17.078472\n",
      "3         Dim4                3.021573          20.100045\n",
      "4         Dim5                2.783341          22.883386\n",
      "...        ...                     ...                ...\n",
      "1275   Dim1276                0.001573          99.994062\n",
      "1276   Dim1277                0.001548          99.995611\n",
      "1277   Dim1278                0.001529          99.997139\n",
      "1278   Dim1279                0.001442          99.998581\n",
      "1279   Dim1280                0.001419         100.000000\n",
      "\n",
      "[1280 rows x 3 columns]"
     ]
    }
   ],
   "source": [
    "explained_variance = model.stages[-1].explainedVariance\n",
    "cumulative_variance = np.cumsum(explained_variance)\n",
    "\n",
    "df_results = pd.DataFrame({\n",
    "    'Dimension': [\"Dim\" + str(i+1) for i in range(len(explained_variance))],\n",
    "    'Variance Expliquée (%)': explained_variance * 100,\n",
    "    'Somme Cumulée (%)': cumulative_variance * 100\n",
    "})\n",
    "\n",
    "df_results"
   ]
  },
  {
   "cell_type": "code",
   "execution_count": 21,
   "id": "45FQENFxFRjB",
   "metadata": {
    "colab": {
     "base_uri": "https://localhost:8080/",
     "height": 527
    },
    "execution": {
     "iopub.execute_input": "2025-09-18T21:21:57.487419Z",
     "iopub.status.busy": "2025-09-18T21:21:57.487176Z",
     "iopub.status.idle": "2025-09-18T21:21:57.746842Z",
     "shell.execute_reply": "2025-09-18T21:21:57.746063Z",
     "shell.execute_reply.started": "2025-09-18T21:21:57.487386Z"
    },
    "id": "45FQENFxFRjB",
    "outputId": "8a5080a2-7e80-480d-b4fa-c3e70955106e",
    "tags": []
   },
   "outputs": [
    {
     "data": {
      "application/vnd.jupyter.widget-view+json": {
       "model_id": "58d2e9d489a2456fa52ee2cee7a09ba0",
       "version_major": 2,
       "version_minor": 0
      },
      "text/plain": [
       "VBox()"
      ]
     },
     "metadata": {},
     "output_type": "display_data"
    },
    {
     "data": {
      "application/vnd.jupyter.widget-view+json": {
       "model_id": "2cc71f43b1f64cc0b2a51e2d03bec272",
       "version_major": 2,
       "version_minor": 0
      },
      "text/plain": [
       "FloatProgress(value=0.0, bar_style='info', description='Progress:', layout=Layout(height='25px', width='50%'),…"
      ]
     },
     "metadata": {},
     "output_type": "display_data"
    }
   ],
   "source": [
    "target = 0.99\n",
    "n = len(cumulative_variance)\n",
    "x = np.arange(1, n + 1)\n",
    "k = np.searchsorted(cumulative_variance, target) + 1\n",
    "\n",
    "fig, ax = plt.subplots(figsize=(12, 6))\n",
    "ax.plot(x, cumulative_variance)\n",
    "ax.axvline(x=k, linestyle='--', color=\"red\")\n",
    "#ax.axhline(y=target, linestyle=':')\n",
    "\n",
    "ax.set_xlabel(\"Composantes\")\n",
    "ax.set_ylabel(\"variance cumulée\")\n",
    "\n",
    "ax.annotate(\n",
    "    f\"k = {k}\",\n",
    "    xy=(k, cumulative_variance[k-1]),\n",
    "    xytext=(k + n*0.05, target),\n",
    "    arrowprops=dict(arrowstyle=\"->\"),\n",
    "    rotation=90,\n",
    "    color=\"red\",\n",
    "    fontweight=\"bold\"\n",
    ")\n",
    "plt.suptitle(f\"Variance cumulée et choix de k (≥{target}%)\")\n",
    "plt.show()"
   ]
  },
  {
   "cell_type": "code",
   "execution_count": 22,
   "id": "V74kgoWuFRjC",
   "metadata": {
    "colab": {
     "base_uri": "https://localhost:8080/"
    },
    "execution": {
     "iopub.execute_input": "2025-09-18T21:21:57.748085Z",
     "iopub.status.busy": "2025-09-18T21:21:57.747912Z",
     "iopub.status.idle": "2025-09-18T21:21:57.795659Z",
     "shell.execute_reply": "2025-09-18T21:21:57.795046Z",
     "shell.execute_reply.started": "2025-09-18T21:21:57.748064Z"
    },
    "id": "V74kgoWuFRjC",
    "outputId": "0e6d0a0a-4f93-4682-a1b5-9a408863f329",
    "tags": []
   },
   "outputs": [
    {
     "data": {
      "application/vnd.jupyter.widget-view+json": {
       "model_id": "d5ec9599623f4b25a65b67dbeab07ef9",
       "version_major": 2,
       "version_minor": 0
      },
      "text/plain": [
       "VBox()"
      ]
     },
     "metadata": {},
     "output_type": "display_data"
    },
    {
     "data": {
      "application/vnd.jupyter.widget-view+json": {
       "model_id": "4795d371c1a54d15ae0a93d614d26eeb",
       "version_major": 2,
       "version_minor": 0
      },
      "text/plain": [
       "FloatProgress(value=0.0, bar_style='info', description='Progress:', layout=Layout(height='25px', width='50%'),…"
      ]
     },
     "metadata": {},
     "output_type": "display_data"
    },
    {
     "name": "stdout",
     "output_type": "stream",
     "text": [
      "Avec 983 dimensions nous capturons 0.99 de la variance"
     ]
    }
   ],
   "source": [
    "print(f\"Avec {k} dimensions nous capturons {target} de la variance\")"
   ]
  },
  {
   "cell_type": "code",
   "execution_count": 23,
   "id": "dtE-YT6WFRjC",
   "metadata": {
    "execution": {
     "iopub.execute_input": "2025-09-18T21:21:57.800327Z",
     "iopub.status.busy": "2025-09-18T21:21:57.800165Z",
     "iopub.status.idle": "2025-09-18T21:21:57.846116Z",
     "shell.execute_reply": "2025-09-18T21:21:57.845486Z",
     "shell.execute_reply.started": "2025-09-18T21:21:57.800307Z"
    },
    "id": "dtE-YT6WFRjC"
   },
   "outputs": [
    {
     "data": {
      "application/vnd.jupyter.widget-view+json": {
       "model_id": "b9e036daacc044ad866019febe38cdff",
       "version_major": 2,
       "version_minor": 0
      },
      "text/plain": [
       "VBox()"
      ]
     },
     "metadata": {},
     "output_type": "display_data"
    },
    {
     "data": {
      "application/vnd.jupyter.widget-view+json": {
       "model_id": "f60c2588c59447889763f013ba7b5b6c",
       "version_major": 2,
       "version_minor": 0
      },
      "text/plain": [
       "FloatProgress(value=0.0, bar_style='info', description='Progress:', layout=Layout(height='25px', width='50%'),…"
      ]
     },
     "metadata": {},
     "output_type": "display_data"
    }
   ],
   "source": [
    "pca = PCA(\n",
    "    k=k,\n",
    "    inputCol=scaler.getOutputCol(),\n",
    "    outputCol=\"pca_features\"\n",
    ")\n",
    "\n",
    "pipeline = Pipeline(stages=[scaler , pca])"
   ]
  },
  {
   "cell_type": "code",
   "execution_count": 24,
   "id": "BX-BsUJ5FRjD",
   "metadata": {
    "colab": {
     "base_uri": "https://localhost:8080/"
    },
    "execution": {
     "iopub.execute_input": "2025-09-18T21:21:57.847537Z",
     "iopub.status.busy": "2025-09-18T21:21:57.847334Z",
     "iopub.status.idle": "2025-09-18T21:56:22.574022Z",
     "shell.execute_reply": "2025-09-18T21:56:22.573246Z",
     "shell.execute_reply.started": "2025-09-18T21:21:57.847476Z"
    },
    "id": "BX-BsUJ5FRjD",
    "outputId": "6f7c069b-d827-45c9-c335-fe038fe6967b",
    "tags": []
   },
   "outputs": [
    {
     "data": {
      "application/vnd.jupyter.widget-view+json": {
       "model_id": "6d7da21741884f569f51adc10eb96726",
       "version_major": 2,
       "version_minor": 0
      },
      "text/plain": [
       "VBox()"
      ]
     },
     "metadata": {},
     "output_type": "display_data"
    },
    {
     "data": {
      "application/vnd.jupyter.widget-view+json": {
       "model_id": "263585d1dc5f4b21a6214051789c0b1e",
       "version_major": 2,
       "version_minor": 0
      },
      "text/plain": [
       "FloatProgress(value=0.0, bar_style='info', description='Progress:', layout=Layout(height='25px', width='50%'),…"
      ]
     },
     "metadata": {},
     "output_type": "display_data"
    }
   ],
   "source": [
    "model = pipeline.fit(features_df)"
   ]
  },
  {
   "cell_type": "code",
   "execution_count": 25,
   "id": "_9zRy3uWFRjE",
   "metadata": {
    "execution": {
     "iopub.execute_input": "2025-09-18T21:56:22.575589Z",
     "iopub.status.busy": "2025-09-18T21:56:22.575320Z",
     "iopub.status.idle": "2025-09-18T21:56:22.823710Z",
     "shell.execute_reply": "2025-09-18T21:56:22.823005Z",
     "shell.execute_reply.started": "2025-09-18T21:56:22.575552Z"
    },
    "id": "_9zRy3uWFRjE"
   },
   "outputs": [
    {
     "data": {
      "application/vnd.jupyter.widget-view+json": {
       "model_id": "13ede6952a02467e8e7ed1448276497e",
       "version_major": 2,
       "version_minor": 0
      },
      "text/plain": [
       "VBox()"
      ]
     },
     "metadata": {},
     "output_type": "display_data"
    },
    {
     "data": {
      "application/vnd.jupyter.widget-view+json": {
       "model_id": "58f3e2bf5b8a49b8b8aabe99f1e2249d",
       "version_major": 2,
       "version_minor": 0
      },
      "text/plain": [
       "FloatProgress(value=0.0, bar_style='info', description='Progress:', layout=Layout(height='25px', width='50%'),…"
      ]
     },
     "metadata": {},
     "output_type": "display_data"
    }
   ],
   "source": [
    "features_df = model.transform(features_df)"
   ]
  },
  {
   "cell_type": "markdown",
   "id": "GqSHb2VHFRi_",
   "metadata": {
    "id": "GqSHb2VHFRi_"
   },
   "source": [
    "### 5.4.2 Enregistrement des données traitées au format \"**parquet**\""
   ]
  },
  {
   "cell_type": "code",
   "execution_count": 26,
   "id": "7c53ddd5",
   "metadata": {
    "colab": {
     "referenced_widgets": [
      ""
     ]
    },
    "execution": {
     "iopub.execute_input": "2025-09-18T21:56:22.824907Z",
     "iopub.status.busy": "2025-09-18T21:56:22.824733Z",
     "iopub.status.idle": "2025-09-18T22:10:27.442512Z",
     "shell.execute_reply": "2025-09-18T22:10:27.441923Z",
     "shell.execute_reply.started": "2025-09-18T21:56:22.824885Z"
    },
    "id": "7c53ddd5",
    "outputId": "0d4b2040-9795-4d78-e8e0-57f7af162b6e",
    "tags": []
   },
   "outputs": [
    {
     "data": {
      "application/vnd.jupyter.widget-view+json": {
       "model_id": "98b9927fcd34456f9b285b9475df87f1",
       "version_major": 2,
       "version_minor": 0
      },
      "text/plain": [
       "VBox()"
      ]
     },
     "metadata": {},
     "output_type": "display_data"
    },
    {
     "data": {
      "application/vnd.jupyter.widget-view+json": {
       "model_id": "92ea397cf41f40c481b6665aaec84731",
       "version_major": 2,
       "version_minor": 0
      },
      "text/plain": [
       "FloatProgress(value=0.0, bar_style='info', description='Progress:', layout=Layout(height='25px', width='50%'),…"
      ]
     },
     "metadata": {},
     "output_type": "display_data"
    }
   ],
   "source": [
    "features_df = features_df.withColumn(\"pca_features\", vector_to_array(features_df[\"pca_features\"]))\n",
    "features_df.drop('scaled_features', 'features_input').write.mode(\"overwrite\").parquet(PATH_Result)"
   ]
  },
  {
   "cell_type": "markdown",
   "id": "1fe01b72",
   "metadata": {
    "id": "1fe01b72"
   },
   "source": [
    "# 6 Chargement des données enregistrées et validation du résultat"
   ]
  },
  {
   "cell_type": "code",
   "execution_count": 27,
   "id": "db18a784",
   "metadata": {
    "colab": {
     "referenced_widgets": [
      ""
     ]
    },
    "execution": {
     "iopub.execute_input": "2025-09-18T22:10:27.443691Z",
     "iopub.status.busy": "2025-09-18T22:10:27.443458Z",
     "iopub.status.idle": "2025-09-18T22:10:30.708798Z",
     "shell.execute_reply": "2025-09-18T22:10:30.708086Z",
     "shell.execute_reply.started": "2025-09-18T22:10:27.443667Z"
    },
    "id": "db18a784",
    "outputId": "5f147f7a-7622-4c3c-c695-5451e1d59a59"
   },
   "outputs": [
    {
     "data": {
      "application/vnd.jupyter.widget-view+json": {
       "model_id": "79aa7bb84a3148e787d5ac88f20e0c9e",
       "version_major": 2,
       "version_minor": 0
      },
      "text/plain": [
       "VBox()"
      ]
     },
     "metadata": {},
     "output_type": "display_data"
    },
    {
     "data": {
      "application/vnd.jupyter.widget-view+json": {
       "model_id": "defb5e24a3af4022ac2ee0341f740e49",
       "version_major": 2,
       "version_minor": 0
      },
      "text/plain": [
       "FloatProgress(value=0.0, bar_style='info', description='Progress:', layout=Layout(height='25px', width='50%'),…"
      ]
     },
     "metadata": {},
     "output_type": "display_data"
    }
   ],
   "source": [
    "df = pd.read_parquet(PATH_Result, engine='pyarrow')"
   ]
  },
  {
   "cell_type": "code",
   "execution_count": 28,
   "id": "d750d2a8",
   "metadata": {
    "colab": {
     "referenced_widgets": [
      ""
     ]
    },
    "execution": {
     "iopub.execute_input": "2025-09-18T22:10:30.709934Z",
     "iopub.status.busy": "2025-09-18T22:10:30.709759Z",
     "iopub.status.idle": "2025-09-18T22:10:30.960687Z",
     "shell.execute_reply": "2025-09-18T22:10:30.959934Z",
     "shell.execute_reply.started": "2025-09-18T22:10:30.709913Z"
    },
    "id": "d750d2a8",
    "outputId": "efa00bbd-0886-487b-d918-c9828e76fee4"
   },
   "outputs": [
    {
     "data": {
      "application/vnd.jupyter.widget-view+json": {
       "model_id": "cf032bd250bb4073b851db411a979e7d",
       "version_major": 2,
       "version_minor": 0
      },
      "text/plain": [
       "VBox()"
      ]
     },
     "metadata": {},
     "output_type": "display_data"
    },
    {
     "data": {
      "application/vnd.jupyter.widget-view+json": {
       "model_id": "5b759f04966d4ce1b8d1e8ccc05f8cc8",
       "version_major": 2,
       "version_minor": 0
      },
      "text/plain": [
       "FloatProgress(value=0.0, bar_style='info', description='Progress:', layout=Layout(height='25px', width='50%'),…"
      ]
     },
     "metadata": {},
     "output_type": "display_data"
    },
    {
     "name": "stdout",
     "output_type": "stream",
     "text": [
      "                                                path  ...                                       pca_features\n",
      "0  s3://p11-fruits-pipeline/raw/fruits/fruits-360...  ...  [-9.801482800863004, 4.593026540829984, -3.928...\n",
      "1  s3://p11-fruits-pipeline/raw/fruits/fruits-360...  ...  [-10.37006167936477, 4.893478026537261, -4.993...\n",
      "2  s3://p11-fruits-pipeline/raw/fruits/fruits-360...  ...  [-15.656754851939636, 3.5869597611761126, -6.8...\n",
      "3  s3://p11-fruits-pipeline/raw/fruits/fruits-360...  ...  [-5.738487898637016, 4.796668166982608, 3.5587...\n",
      "4  s3://p11-fruits-pipeline/raw/fruits/fruits-360...  ...  [-12.01986290191231, 3.311426517836176, -5.628...\n",
      "\n",
      "[5 rows x 4 columns]"
     ]
    }
   ],
   "source": [
    "df.head()"
   ]
  },
  {
   "cell_type": "code",
   "execution_count": 31,
   "id": "b29205ff",
   "metadata": {
    "colab": {
     "referenced_widgets": [
      ""
     ]
    },
    "execution": {
     "iopub.execute_input": "2025-09-18T22:11:10.856911Z",
     "iopub.status.busy": "2025-09-18T22:11:10.856666Z",
     "iopub.status.idle": "2025-09-18T22:11:10.908668Z",
     "shell.execute_reply": "2025-09-18T22:11:10.908069Z",
     "shell.execute_reply.started": "2025-09-18T22:11:10.856886Z"
    },
    "id": "b29205ff",
    "outputId": "ea522d88-ba5c-4f83-8362-0b4e86304344",
    "tags": []
   },
   "outputs": [
    {
     "data": {
      "application/vnd.jupyter.widget-view+json": {
       "model_id": "f66c89926e4f49fea6bdbeb8fa8d590d",
       "version_major": 2,
       "version_minor": 0
      },
      "text/plain": [
       "VBox()"
      ]
     },
     "metadata": {},
     "output_type": "display_data"
    },
    {
     "data": {
      "application/vnd.jupyter.widget-view+json": {
       "model_id": "f8298593510c44a5baeb530e84cfa04f",
       "version_major": 2,
       "version_minor": 0
      },
      "text/plain": [
       "FloatProgress(value=0.0, bar_style='info', description='Progress:', layout=Layout(height='25px', width='50%'),…"
      ]
     },
     "metadata": {},
     "output_type": "display_data"
    },
    {
     "name": "stdout",
     "output_type": "stream",
     "text": [
      "(983,)"
     ]
    }
   ],
   "source": [
    "df.loc[0,'pca_features'].shape"
   ]
  },
  {
   "cell_type": "code",
   "execution_count": 30,
   "id": "4fba6455",
   "metadata": {
    "colab": {
     "referenced_widgets": [
      ""
     ]
    },
    "execution": {
     "iopub.execute_input": "2025-09-18T22:10:31.008380Z",
     "iopub.status.busy": "2025-09-18T22:10:31.008216Z",
     "iopub.status.idle": "2025-09-18T22:10:31.053167Z",
     "shell.execute_reply": "2025-09-18T22:10:31.052570Z",
     "shell.execute_reply.started": "2025-09-18T22:10:31.008360Z"
    },
    "id": "4fba6455",
    "outputId": "fd713d86-4739-47ea-f9b8-04512638fa61",
    "tags": []
   },
   "outputs": [
    {
     "data": {
      "application/vnd.jupyter.widget-view+json": {
       "model_id": "857e6ed1bfb54a87ab05880b776ec8ef",
       "version_major": 2,
       "version_minor": 0
      },
      "text/plain": [
       "VBox()"
      ]
     },
     "metadata": {},
     "output_type": "display_data"
    },
    {
     "data": {
      "application/vnd.jupyter.widget-view+json": {
       "model_id": "1fb9c4103af54835bb2749db087f86c5",
       "version_major": 2,
       "version_minor": 0
      },
      "text/plain": [
       "FloatProgress(value=0.0, bar_style='info', description='Progress:', layout=Layout(height='25px', width='50%'),…"
      ]
     },
     "metadata": {},
     "output_type": "display_data"
    },
    {
     "name": "stdout",
     "output_type": "stream",
     "text": [
      "(22688, 4)"
     ]
    }
   ],
   "source": [
    "df.shape"
   ]
  }
 ],
 "metadata": {
  "accelerator": "GPU",
  "colab": {
   "gpuType": "L4",
   "include_colab_link": true,
   "machine_shape": "hm",
   "provenance": [],
   "toc_visible": true
  },
  "kernelspec": {
   "display_name": "PySpark",
   "language": "python",
   "name": "pysparkkernel"
  },
  "language_info": {
   "codemirror_mode": {
    "name": "python",
    "version": 3
   },
   "file_extension": ".py",
   "mimetype": "text/x-python",
   "name": "pyspark",
   "pygments_lexer": "python3"
  },
  "toc": {
   "base_numbering": 1,
   "nav_menu": {},
   "number_sections": true,
   "sideBar": true,
   "skip_h1_title": false,
   "title_cell": "Table of Contents",
   "title_sidebar": "Contents",
   "toc_cell": false,
   "toc_position": {
    "height": "calc(100% - 180px)",
    "left": "10px",
    "top": "150px",
    "width": "432.4px"
   },
   "toc_section_display": true,
   "toc_window_display": true
  }
 },
 "nbformat": 4,
 "nbformat_minor": 5
}
